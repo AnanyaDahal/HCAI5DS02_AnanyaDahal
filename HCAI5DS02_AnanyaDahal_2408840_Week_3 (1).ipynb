{
  "nbformat": 4,
  "nbformat_minor": 0,
  "metadata": {
    "colab": {
      "provenance": []
    },
    "kernelspec": {
      "name": "python3",
      "display_name": "Python 3"
    },
    "language_info": {
      "name": "python"
    }
  },
  "cells": [
    {
      "cell_type": "code",
      "execution_count": null,
      "metadata": {
        "id": "kV_GfJ13YUHt"
      },
      "outputs": [],
      "source": [
        "#Ananya Dahal\n",
        "#2408840\n",
        "\n",
        "\n",
        "#import libraries\n",
        "\n",
        "import pandas as pd\n",
        "import matplotlib.pyplot as plt\n",
        "import seaborn as sns\n",
        "import numpy as np\n",
        "from google.colab import drive"
      ]
    },
    {
      "cell_type": "code",
      "source": [
        "# STEP 2: Upload the CSV File and load the dataset\n",
        "\n",
        "from google.colab import drive\n",
        "drive.mount('/content/drive')\n",
        "file_path = '/content/AI WEEK-3 (Responses) - Form responses 1 (1).csv'\n",
        "df = pd.read_csv(file_path)\n",
        "df.head()"
      ],
      "metadata": {
        "colab": {
          "base_uri": "https://localhost:8080/",
          "height": 346
        },
        "id": "BXSJtnr7Y20y",
        "outputId": "3ea08757-66d2-4663-b703-0546793265ad"
      },
      "execution_count": null,
      "outputs": [
        {
          "output_type": "stream",
          "name": "stdout",
          "text": [
            "Drive already mounted at /content/drive; to attempt to forcibly remount, call drive.mount(\"/content/drive\", force_remount=True).\n"
          ]
        },
        {
          "output_type": "execute_result",
          "data": {
            "text/plain": [
              "             Timestamp              Name  \\\n",
              "0  31/07/2025 11:56:39  Shreya Shrestha    \n",
              "1  31/07/2025 11:56:56      Aaryan Aryal   \n",
              "2  31/07/2025 11:57:33           Subrat    \n",
              "3  31/07/2025 11:59:35          Miyamoto   \n",
              "4  31/07/2025 12:00:17     Abison Sharma   \n",
              "\n",
              "    Q1. How many messages do you send in a typical day using messaging apps (e.g., WhatsApp, Messenger, Viber, etc.)?    \\\n",
              "0                                              20-30                                                                      \n",
              "1                                              40-50                                                                      \n",
              "2                                              20-30                                                                      \n",
              "3                                              40-50                                                                      \n",
              "4                                              10-20                                                                      \n",
              "\n",
              "    Q2. Which messaging app do you use most frequently?    \\\n",
              "0                                           WhatsApp        \n",
              "1                                           WhatsApp        \n",
              "2                                          Instagram        \n",
              "3                                          Instagram        \n",
              "4                                          Instagram        \n",
              "\n",
              "  Q3. What is your age group?  \\\n",
              "0                       18–21   \n",
              "1                       18–21   \n",
              "2                       22–25   \n",
              "3                       18–21   \n",
              "4                    Above 25   \n",
              "\n",
              "    Q4. Do you consider yourself a frequent texter?    \\\n",
              "0                                                Yes    \n",
              "1                                          Sometimes    \n",
              "2                                                Yes    \n",
              "3                                                Yes    \n",
              "4                                                 No    \n",
              "\n",
              "    Q5. Do you use messaging apps more for:    \n",
              "0                     Academic/Group projects  \n",
              "1                              Personal chats  \n",
              "2                              Personal chats  \n",
              "3                                Both equally  \n",
              "4                              Personal chats  "
            ],
            "text/html": [
              "\n",
              "  <div id=\"df-2839bedc-8c46-4470-b0d1-9fd3a2bccf8f\" class=\"colab-df-container\">\n",
              "    <div>\n",
              "<style scoped>\n",
              "    .dataframe tbody tr th:only-of-type {\n",
              "        vertical-align: middle;\n",
              "    }\n",
              "\n",
              "    .dataframe tbody tr th {\n",
              "        vertical-align: top;\n",
              "    }\n",
              "\n",
              "    .dataframe thead th {\n",
              "        text-align: right;\n",
              "    }\n",
              "</style>\n",
              "<table border=\"1\" class=\"dataframe\">\n",
              "  <thead>\n",
              "    <tr style=\"text-align: right;\">\n",
              "      <th></th>\n",
              "      <th>Timestamp</th>\n",
              "      <th>Name</th>\n",
              "      <th>Q1. How many messages do you send in a typical day using messaging apps (e.g., WhatsApp, Messenger, Viber, etc.)?</th>\n",
              "      <th>Q2. Which messaging app do you use most frequently?</th>\n",
              "      <th>Q3. What is your age group?</th>\n",
              "      <th>Q4. Do you consider yourself a frequent texter?</th>\n",
              "      <th>Q5. Do you use messaging apps more for:</th>\n",
              "    </tr>\n",
              "  </thead>\n",
              "  <tbody>\n",
              "    <tr>\n",
              "      <th>0</th>\n",
              "      <td>31/07/2025 11:56:39</td>\n",
              "      <td>Shreya Shrestha</td>\n",
              "      <td>20-30</td>\n",
              "      <td>WhatsApp</td>\n",
              "      <td>18–21</td>\n",
              "      <td>Yes</td>\n",
              "      <td>Academic/Group projects</td>\n",
              "    </tr>\n",
              "    <tr>\n",
              "      <th>1</th>\n",
              "      <td>31/07/2025 11:56:56</td>\n",
              "      <td>Aaryan Aryal</td>\n",
              "      <td>40-50</td>\n",
              "      <td>WhatsApp</td>\n",
              "      <td>18–21</td>\n",
              "      <td>Sometimes</td>\n",
              "      <td>Personal chats</td>\n",
              "    </tr>\n",
              "    <tr>\n",
              "      <th>2</th>\n",
              "      <td>31/07/2025 11:57:33</td>\n",
              "      <td>Subrat</td>\n",
              "      <td>20-30</td>\n",
              "      <td>Instagram</td>\n",
              "      <td>22–25</td>\n",
              "      <td>Yes</td>\n",
              "      <td>Personal chats</td>\n",
              "    </tr>\n",
              "    <tr>\n",
              "      <th>3</th>\n",
              "      <td>31/07/2025 11:59:35</td>\n",
              "      <td>Miyamoto</td>\n",
              "      <td>40-50</td>\n",
              "      <td>Instagram</td>\n",
              "      <td>18–21</td>\n",
              "      <td>Yes</td>\n",
              "      <td>Both equally</td>\n",
              "    </tr>\n",
              "    <tr>\n",
              "      <th>4</th>\n",
              "      <td>31/07/2025 12:00:17</td>\n",
              "      <td>Abison Sharma</td>\n",
              "      <td>10-20</td>\n",
              "      <td>Instagram</td>\n",
              "      <td>Above 25</td>\n",
              "      <td>No</td>\n",
              "      <td>Personal chats</td>\n",
              "    </tr>\n",
              "  </tbody>\n",
              "</table>\n",
              "</div>\n",
              "    <div class=\"colab-df-buttons\">\n",
              "\n",
              "  <div class=\"colab-df-container\">\n",
              "    <button class=\"colab-df-convert\" onclick=\"convertToInteractive('df-2839bedc-8c46-4470-b0d1-9fd3a2bccf8f')\"\n",
              "            title=\"Convert this dataframe to an interactive table.\"\n",
              "            style=\"display:none;\">\n",
              "\n",
              "  <svg xmlns=\"http://www.w3.org/2000/svg\" height=\"24px\" viewBox=\"0 -960 960 960\">\n",
              "    <path d=\"M120-120v-720h720v720H120Zm60-500h600v-160H180v160Zm220 220h160v-160H400v160Zm0 220h160v-160H400v160ZM180-400h160v-160H180v160Zm440 0h160v-160H620v160ZM180-180h160v-160H180v160Zm440 0h160v-160H620v160Z\"/>\n",
              "  </svg>\n",
              "    </button>\n",
              "\n",
              "  <style>\n",
              "    .colab-df-container {\n",
              "      display:flex;\n",
              "      gap: 12px;\n",
              "    }\n",
              "\n",
              "    .colab-df-convert {\n",
              "      background-color: #E8F0FE;\n",
              "      border: none;\n",
              "      border-radius: 50%;\n",
              "      cursor: pointer;\n",
              "      display: none;\n",
              "      fill: #1967D2;\n",
              "      height: 32px;\n",
              "      padding: 0 0 0 0;\n",
              "      width: 32px;\n",
              "    }\n",
              "\n",
              "    .colab-df-convert:hover {\n",
              "      background-color: #E2EBFA;\n",
              "      box-shadow: 0px 1px 2px rgba(60, 64, 67, 0.3), 0px 1px 3px 1px rgba(60, 64, 67, 0.15);\n",
              "      fill: #174EA6;\n",
              "    }\n",
              "\n",
              "    .colab-df-buttons div {\n",
              "      margin-bottom: 4px;\n",
              "    }\n",
              "\n",
              "    [theme=dark] .colab-df-convert {\n",
              "      background-color: #3B4455;\n",
              "      fill: #D2E3FC;\n",
              "    }\n",
              "\n",
              "    [theme=dark] .colab-df-convert:hover {\n",
              "      background-color: #434B5C;\n",
              "      box-shadow: 0px 1px 3px 1px rgba(0, 0, 0, 0.15);\n",
              "      filter: drop-shadow(0px 1px 2px rgba(0, 0, 0, 0.3));\n",
              "      fill: #FFFFFF;\n",
              "    }\n",
              "  </style>\n",
              "\n",
              "    <script>\n",
              "      const buttonEl =\n",
              "        document.querySelector('#df-2839bedc-8c46-4470-b0d1-9fd3a2bccf8f button.colab-df-convert');\n",
              "      buttonEl.style.display =\n",
              "        google.colab.kernel.accessAllowed ? 'block' : 'none';\n",
              "\n",
              "      async function convertToInteractive(key) {\n",
              "        const element = document.querySelector('#df-2839bedc-8c46-4470-b0d1-9fd3a2bccf8f');\n",
              "        const dataTable =\n",
              "          await google.colab.kernel.invokeFunction('convertToInteractive',\n",
              "                                                    [key], {});\n",
              "        if (!dataTable) return;\n",
              "\n",
              "        const docLinkHtml = 'Like what you see? Visit the ' +\n",
              "          '<a target=\"_blank\" href=https://colab.research.google.com/notebooks/data_table.ipynb>data table notebook</a>'\n",
              "          + ' to learn more about interactive tables.';\n",
              "        element.innerHTML = '';\n",
              "        dataTable['output_type'] = 'display_data';\n",
              "        await google.colab.output.renderOutput(dataTable, element);\n",
              "        const docLink = document.createElement('div');\n",
              "        docLink.innerHTML = docLinkHtml;\n",
              "        element.appendChild(docLink);\n",
              "      }\n",
              "    </script>\n",
              "  </div>\n",
              "\n",
              "\n",
              "    <div id=\"df-16767add-d0ad-4347-92c9-4c13ade56fbf\">\n",
              "      <button class=\"colab-df-quickchart\" onclick=\"quickchart('df-16767add-d0ad-4347-92c9-4c13ade56fbf')\"\n",
              "                title=\"Suggest charts\"\n",
              "                style=\"display:none;\">\n",
              "\n",
              "<svg xmlns=\"http://www.w3.org/2000/svg\" height=\"24px\"viewBox=\"0 0 24 24\"\n",
              "     width=\"24px\">\n",
              "    <g>\n",
              "        <path d=\"M19 3H5c-1.1 0-2 .9-2 2v14c0 1.1.9 2 2 2h14c1.1 0 2-.9 2-2V5c0-1.1-.9-2-2-2zM9 17H7v-7h2v7zm4 0h-2V7h2v10zm4 0h-2v-4h2v4z\"/>\n",
              "    </g>\n",
              "</svg>\n",
              "      </button>\n",
              "\n",
              "<style>\n",
              "  .colab-df-quickchart {\n",
              "      --bg-color: #E8F0FE;\n",
              "      --fill-color: #1967D2;\n",
              "      --hover-bg-color: #E2EBFA;\n",
              "      --hover-fill-color: #174EA6;\n",
              "      --disabled-fill-color: #AAA;\n",
              "      --disabled-bg-color: #DDD;\n",
              "  }\n",
              "\n",
              "  [theme=dark] .colab-df-quickchart {\n",
              "      --bg-color: #3B4455;\n",
              "      --fill-color: #D2E3FC;\n",
              "      --hover-bg-color: #434B5C;\n",
              "      --hover-fill-color: #FFFFFF;\n",
              "      --disabled-bg-color: #3B4455;\n",
              "      --disabled-fill-color: #666;\n",
              "  }\n",
              "\n",
              "  .colab-df-quickchart {\n",
              "    background-color: var(--bg-color);\n",
              "    border: none;\n",
              "    border-radius: 50%;\n",
              "    cursor: pointer;\n",
              "    display: none;\n",
              "    fill: var(--fill-color);\n",
              "    height: 32px;\n",
              "    padding: 0;\n",
              "    width: 32px;\n",
              "  }\n",
              "\n",
              "  .colab-df-quickchart:hover {\n",
              "    background-color: var(--hover-bg-color);\n",
              "    box-shadow: 0 1px 2px rgba(60, 64, 67, 0.3), 0 1px 3px 1px rgba(60, 64, 67, 0.15);\n",
              "    fill: var(--button-hover-fill-color);\n",
              "  }\n",
              "\n",
              "  .colab-df-quickchart-complete:disabled,\n",
              "  .colab-df-quickchart-complete:disabled:hover {\n",
              "    background-color: var(--disabled-bg-color);\n",
              "    fill: var(--disabled-fill-color);\n",
              "    box-shadow: none;\n",
              "  }\n",
              "\n",
              "  .colab-df-spinner {\n",
              "    border: 2px solid var(--fill-color);\n",
              "    border-color: transparent;\n",
              "    border-bottom-color: var(--fill-color);\n",
              "    animation:\n",
              "      spin 1s steps(1) infinite;\n",
              "  }\n",
              "\n",
              "  @keyframes spin {\n",
              "    0% {\n",
              "      border-color: transparent;\n",
              "      border-bottom-color: var(--fill-color);\n",
              "      border-left-color: var(--fill-color);\n",
              "    }\n",
              "    20% {\n",
              "      border-color: transparent;\n",
              "      border-left-color: var(--fill-color);\n",
              "      border-top-color: var(--fill-color);\n",
              "    }\n",
              "    30% {\n",
              "      border-color: transparent;\n",
              "      border-left-color: var(--fill-color);\n",
              "      border-top-color: var(--fill-color);\n",
              "      border-right-color: var(--fill-color);\n",
              "    }\n",
              "    40% {\n",
              "      border-color: transparent;\n",
              "      border-right-color: var(--fill-color);\n",
              "      border-top-color: var(--fill-color);\n",
              "    }\n",
              "    60% {\n",
              "      border-color: transparent;\n",
              "      border-right-color: var(--fill-color);\n",
              "    }\n",
              "    80% {\n",
              "      border-color: transparent;\n",
              "      border-right-color: var(--fill-color);\n",
              "      border-bottom-color: var(--fill-color);\n",
              "    }\n",
              "    90% {\n",
              "      border-color: transparent;\n",
              "      border-bottom-color: var(--fill-color);\n",
              "    }\n",
              "  }\n",
              "</style>\n",
              "\n",
              "      <script>\n",
              "        async function quickchart(key) {\n",
              "          const quickchartButtonEl =\n",
              "            document.querySelector('#' + key + ' button');\n",
              "          quickchartButtonEl.disabled = true;  // To prevent multiple clicks.\n",
              "          quickchartButtonEl.classList.add('colab-df-spinner');\n",
              "          try {\n",
              "            const charts = await google.colab.kernel.invokeFunction(\n",
              "                'suggestCharts', [key], {});\n",
              "          } catch (error) {\n",
              "            console.error('Error during call to suggestCharts:', error);\n",
              "          }\n",
              "          quickchartButtonEl.classList.remove('colab-df-spinner');\n",
              "          quickchartButtonEl.classList.add('colab-df-quickchart-complete');\n",
              "        }\n",
              "        (() => {\n",
              "          let quickchartButtonEl =\n",
              "            document.querySelector('#df-16767add-d0ad-4347-92c9-4c13ade56fbf button');\n",
              "          quickchartButtonEl.style.display =\n",
              "            google.colab.kernel.accessAllowed ? 'block' : 'none';\n",
              "        })();\n",
              "      </script>\n",
              "    </div>\n",
              "\n",
              "    </div>\n",
              "  </div>\n"
            ],
            "application/vnd.google.colaboratory.intrinsic+json": {
              "type": "dataframe",
              "variable_name": "df",
              "summary": "{\n  \"name\": \"df\",\n  \"rows\": 24,\n  \"fields\": [\n    {\n      \"column\": \"Timestamp\",\n      \"properties\": {\n        \"dtype\": \"object\",\n        \"num_unique_values\": 24,\n        \"samples\": [\n          \"31/07/2025 12:21:25\",\n          \"31/07/2025 12:33:39\",\n          \"31/07/2025 11:56:39\"\n        ],\n        \"semantic_type\": \"\",\n        \"description\": \"\"\n      }\n    },\n    {\n      \"column\": \"Name\",\n      \"properties\": {\n        \"dtype\": \"string\",\n        \"num_unique_values\": 24,\n        \"samples\": [\n          \"Nabin Pyakurel\",\n          \"Aryan Aryal 2 (M) \",\n          \"Shreya Shrestha \"\n        ],\n        \"semantic_type\": \"\",\n        \"description\": \"\"\n      }\n    },\n    {\n      \"column\": \"  Q1. How many messages do you send in a typical day using messaging apps (e.g., WhatsApp, Messenger, Viber, etc.)?  \",\n      \"properties\": {\n        \"dtype\": \"category\",\n        \"num_unique_values\": 5,\n        \"samples\": [\n          \"40-50\",\n          \"0-10\",\n          \"10-20\"\n        ],\n        \"semantic_type\": \"\",\n        \"description\": \"\"\n      }\n    },\n    {\n      \"column\": \"  Q2. Which messaging app do you use most frequently?  \",\n      \"properties\": {\n        \"dtype\": \"category\",\n        \"num_unique_values\": 4,\n        \"samples\": [\n          \"Instagram\",\n          \"Facebook Messenger\",\n          \"WhatsApp\"\n        ],\n        \"semantic_type\": \"\",\n        \"description\": \"\"\n      }\n    },\n    {\n      \"column\": \"Q3. What is your age group?\",\n      \"properties\": {\n        \"dtype\": \"category\",\n        \"num_unique_values\": 4,\n        \"samples\": [\n          \"22\\u201325\",\n          \"Below 18\",\n          \"18\\u201321\"\n        ],\n        \"semantic_type\": \"\",\n        \"description\": \"\"\n      }\n    },\n    {\n      \"column\": \"  Q4. Do you consider yourself a frequent texter?  \",\n      \"properties\": {\n        \"dtype\": \"category\",\n        \"num_unique_values\": 3,\n        \"samples\": [\n          \"Yes\",\n          \"Sometimes\",\n          \"No\"\n        ],\n        \"semantic_type\": \"\",\n        \"description\": \"\"\n      }\n    },\n    {\n      \"column\": \"  Q5. Do you use messaging apps more for:  \",\n      \"properties\": {\n        \"dtype\": \"category\",\n        \"num_unique_values\": 4,\n        \"samples\": [\n          \"Personal chats\",\n          \"Work/Professional purpose\",\n          \"Academic/Group projects\"\n        ],\n        \"semantic_type\": \"\",\n        \"description\": \"\"\n      }\n    }\n  ]\n}"
            }
          },
          "metadata": {},
          "execution_count": 49
        }
      ]
    },
    {
      "cell_type": "code",
      "source": [
        "# Rename the column name for easier use\n",
        "\n",
        "df = df.rename(columns={\n",
        "    df.columns[2]: \"Messages_Per_Day\"\n",
        "})"
      ],
      "metadata": {
        "id": "tOV6LgFHa8Qm"
      },
      "execution_count": null,
      "outputs": []
    },
    {
      "cell_type": "code",
      "source": [
        "#STEP 4: Create Frequency Table\n",
        "\n",
        "frequency_table = df[\"Messages_Per_Day\"].value_counts().sort_index()\n",
        "total_responses = frequency_table.sum()"
      ],
      "metadata": {
        "id": "20J1UP_-bLZF"
      },
      "execution_count": null,
      "outputs": []
    },
    {
      "cell_type": "code",
      "source": [
        "#Compute Empirical PMF\n",
        "\n",
        "empirical_pmf = frequency_table / total_responses"
      ],
      "metadata": {
        "id": "zZuQHPQnbNm5"
      },
      "execution_count": null,
      "outputs": []
    },
    {
      "cell_type": "code",
      "source": [
        "# Combine into a DataFrame\n",
        "pmf_table = pd.DataFrame({\n",
        "    \"Frequency\": frequency_table,\n",
        "    \"Empirical PMF\": empirical_pmf\n",
        "})"
      ],
      "metadata": {
        "id": "dRA9kX3VbPbK"
      },
      "execution_count": null,
      "outputs": []
    },
    {
      "cell_type": "code",
      "source": [
        "# STEP 6: Plot Empirical PMF\n",
        "plt.figure(figsize=(8, 5))\n",
        "pmf_table[\"Empirical PMF\"].plot(kind='bar', color='skyblue', edgecolor='black')\n",
        "plt.title(\"Empirical PMF - Messages Sent Per Day\")\n",
        "plt.xlabel(\"Messages Per Day Range\")\n",
        "plt.ylabel(\"Probability\")\n",
        "plt.xticks(rotation=45)\n",
        "plt.tight_layout()\n",
        "plt.show()"
      ],
      "metadata": {
        "colab": {
          "base_uri": "https://localhost:8080/",
          "height": 507
        },
        "id": "Q7_yOz3LbRZm",
        "outputId": "657979d1-df05-4cb2-f0c0-6a9cac2c6579"
      },
      "execution_count": null,
      "outputs": [
        {
          "output_type": "display_data",
          "data": {
            "text/plain": [
              "<Figure size 800x500 with 1 Axes>"
            ],
            "image/png": "[encoded data removed]"
          },
          "metadata": {}
        }
      ]
    },
    {
      "cell_type": "code",
      "source": [
        "# STEP 7: Estimate Mean and Variance using Midpoints\n",
        "midpoints = {\n",
        "    \"0-10\": 5,\n",
        "    \"10-20\": 15,\n",
        "    \"20-30\": 25,\n",
        "    \"30-40\": 35,\n",
        "    \"40-50\": 45\n",
        "}"
      ],
      "metadata": {
        "id": "ZTepkSVgbTTK"
      },
      "execution_count": null,
      "outputs": []
    },
    {
      "cell_type": "code",
      "source": [
        "# Add midpoints to the PMF table\n",
        "pmf_table[\"Midpoint\"] = pmf_table.index.map(midpoints)"
      ],
      "metadata": {
        "id": "p1K9_-4AbVuF"
      },
      "execution_count": null,
      "outputs": []
    },
    {
      "cell_type": "code",
      "source": [
        "# Estimate sample mean\n",
        "mean_estimate = (pmf_table[\"Midpoint\"] * pmf_table[\"Empirical PMF\"]).sum()"
      ],
      "metadata": {
        "id": "LmqY7O2XbXaZ"
      },
      "execution_count": null,
      "outputs": []
    },
    {
      "cell_type": "code",
      "source": [
        "# Estimate sample variance\n",
        "E_X2 = ((pmf_table[\"Midpoint\"]**2) * pmf_table[\"Empirical PMF\"]).sum()\n",
        "variance_estimate = E_X2 - (mean_estimate**2)\n",
        "\n",
        "print(f\"Estimated Mean: {mean_estimate:.2f}\")\n",
        "print(f\" Estimated Variance: {variance_estimate:.2f}\")"
      ],
      "metadata": {
        "colab": {
          "base_uri": "https://localhost:8080/"
        },
        "id": "aKYJaiJ_bZTi",
        "outputId": "d8bbb6b4-6763-4297-9150-0e33f01563a4"
      },
      "execution_count": null,
      "outputs": [
        {
          "output_type": "stream",
          "name": "stdout",
          "text": [
            "Estimated Mean: 25.83\n",
            " Estimated Variance: 215.97\n"
          ]
        }
      ]
    },
    {
      "cell_type": "code",
      "source": [
        "# STEP 8: Summary & Reflection\n",
        "reflection = \"\"\"\n",
        "Reflection:\n",
        "This variable measures daily messaging habits, useful for understanding digital behavior trends.\n",
        "- Estimated Mean Messages/Day ≈ 25.83\n",
        "- Variance ≈ 216\n",
        "\n",
        "Challenges:\n",
        "- Using ranges (0–10, 10–20, etc.) instead of exact numbers reduced precision.\n",
        "- A better approach could be asking for exact message counts.\n",
        "\n",
        "Improvement:\n",
        "- More precise data could allow Poisson or Binomial modeling.\n",
        "- Still, this basic analysis gives a useful overview of user behavior distribution.\n",
        "\"\"\"\n",
        "print(reflection)"
      ],
      "metadata": {
        "colab": {
          "base_uri": "https://localhost:8080/"
        },
        "id": "LwOfM_lWbbq9",
        "outputId": "2c25bd73-5900-47ad-8486-a3dfe6537545"
      },
      "execution_count": null,
      "outputs": [
        {
          "output_type": "stream",
          "name": "stdout",
          "text": [
            "\n",
            "Reflection:\n",
            "This variable measures daily messaging habits, useful for understanding digital behavior trends.\n",
            "- Estimated Mean Messages/Day ≈ 25.83\n",
            "- Variance ≈ 216\n",
            "\n",
            "Challenges:\n",
            "- Using ranges (0–10, 10–20, etc.) instead of exact numbers reduced precision.\n",
            "- A better approach could be asking for exact message counts.\n",
            "\n",
            "Improvement:\n",
            "- More precise data could allow Poisson or Binomial modeling.\n",
            "- Still, this basic analysis gives a useful overview of user behavior distribution.\n",
            "\n"
          ]
        }
      ]
    },
    {
      "cell_type": "code",
      "source": [],
      "metadata": {
        "id": "PjC-w3rSbgd8"
      },
      "execution_count": null,
      "outputs": []
    }
  ]
}