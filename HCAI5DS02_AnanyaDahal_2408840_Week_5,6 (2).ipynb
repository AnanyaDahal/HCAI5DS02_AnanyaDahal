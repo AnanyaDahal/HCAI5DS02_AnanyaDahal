{
  "nbformat": 4,
  "nbformat_minor": 0,
  "metadata": {
    "colab": {
      "provenance": []
    },
    "kernelspec": {
      "name": "python3",
      "display_name": "Python 3"
    },
    "language_info": {
      "name": "python"
    }
  },
  "cells": [
    {
      "cell_type": "code",
      "execution_count": null,
      "metadata": {
        "colab": {
          "base_uri": "https://localhost:8080/"
        },
        "id": "_PPvxdBLs2Z-",
        "outputId": "3c0db8bf-5b71-4528-fe4b-854f43cb5af4"
      },
      "outputs": [
        {
          "output_type": "stream",
          "name": "stdout",
          "text": [
            "t-critical: 2.0095752371292397\n",
            "Standard error: 0.15556349186104046\n",
            "Margin of error: 0.31261654104530295\n",
            "95% CI for mean delivery time: (np.float64(3.887383458954697), np.float64(4.512616541045303))\n"
          ]
        }
      ],
      "source": [
        "#Ananya Dahal\n",
        "#2408840\n",
        "\n",
        "\n",
        "import scipy.stats as stats\n",
        "import numpy as np\n",
        "\n",
        "# Given data\n",
        "n = 50\n",
        "sample_mean = 4.2\n",
        "sample_std = 1.1\n",
        "confidence = 0.95\n",
        "\n",
        "# Step 1: compute the standard error\n",
        "se = sample_std / np.sqrt(n)\n",
        "\n",
        "# Step 2: get the critical t value (two-tailed)\n",
        "alpha = 1 - confidence\n",
        "t_crit = stats.t.ppf(1 - alpha/2, df=n - 1)\n",
        "\n",
        "# Step 3: compute the margin of error\n",
        "moe = t_crit * se\n",
        "\n",
        "# Step 4: build the confidence interval\n",
        "ci_lower = sample_mean - moe\n",
        "ci_upper = sample_mean + moe\n",
        "ci = (ci_lower, ci_upper)\n",
        "\n",
        "print(\"t-critical:\", t_crit)\n",
        "print(\"Standard error:\", se)\n",
        "print(\"Margin of error:\", moe)\n",
        "print(\"95% CI for mean delivery time:\", ci)\n"
      ]
    },
    {
      "cell_type": "code",
      "source": [
        "import scipy.stats as stats\n",
        "import numpy as np\n",
        "\n",
        "# Given data\n",
        "n = 400\n",
        "x = 128\n",
        "confidence = 0.90\n",
        "\n",
        "# Step 1: compute sample proportion\n",
        "p_hat = x / n\n",
        "\n",
        "# Step 2: compute standard error for proportion\n",
        "se_proportion = np.sqrt(p_hat * (1 - p_hat) / n)\n",
        "\n",
        "# Step 3: find the z critical value\n",
        "alpha = 1 - confidence\n",
        "z_crit = stats.norm.ppf(1 - alpha/2)\n",
        "\n",
        "# Step 4: compute confidence interval\n",
        "ci_lower_proportion = p_hat - z_crit * se_proportion\n",
        "ci_upper_proportion = p_hat + z_crit * se_proportion\n",
        "ci_proportion = (ci_lower_proportion, ci_upper_proportion)\n",
        "\n",
        "print(\"Sample proportion:\", p_hat)\n",
        "print(\"Standard error (proportion):\", se_proportion)\n",
        "print(\"z-critical:\", z_crit)\n",
        "print(\"90% CI for proportion:\", ci_proportion)"
      ],
      "metadata": {
        "colab": {
          "base_uri": "https://localhost:8080/"
        },
        "id": "DAaGa4bys4fV",
        "outputId": "140994d5-9c91-420e-c246-64536aa50a79"
      },
      "execution_count": null,
      "outputs": [
        {
          "output_type": "stream",
          "name": "stdout",
          "text": [
            "Sample proportion: 0.32\n",
            "Standard error (proportion): 0.0233238075793812\n",
            "z-critical: 1.6448536269514722\n",
            "90% CI for proportion: (np.float64(0.28163575050873657), np.float64(0.35836424949126344))\n"
          ]
        }
      ]
    },
    {
      "cell_type": "code",
      "source": [
        "import scipy.stats as stats\n",
        "import numpy as np\n",
        "\n",
        "# Given data\n",
        "n1, mean1, std1 = 40, 5200, 610\n",
        "n2, mean2, std2 = 35, 4900, 580\n",
        "confidence = 0.95\n",
        "\n",
        "# Step 1: compute standard error for the difference\n",
        "se_diff = np.sqrt(std1**2 / n1 + std2**2 / n2)\n",
        "\n",
        "# Step 2: degrees of freedom (Welch’s approximation)\n",
        "dof = (std1**2/n1 + std2**2/n2)**2 / ((std1**2/n1)**2 / (n1 - 1) + (std2**2/n2)**2 / (n2 - 1))\n",
        "\n",
        "# Step 3: get critical t value\n",
        "alpha = 1 - confidence\n",
        "t_crit_diff = stats.t.ppf(1 - alpha/2, df=dof)\n",
        "\n",
        "# Step 4: compute confidence interval for the difference\n",
        "ci_lower_diff = (mean1 - mean2) - t_crit_diff * se_diff\n",
        "ci_upper_diff = (mean1 - mean2) + t_crit_diff * se_diff\n",
        "ci_diff = (ci_lower_diff, ci_upper_diff)\n",
        "\n",
        "print(\"Standard error (difference):\", se_diff)\n",
        "print(\"Degrees of freedom:\", dof)\n",
        "print(\"t-critical (difference):\", t_crit_diff)\n",
        "print(\"95% CI for difference in means:\", ci_diff)"
      ],
      "metadata": {
        "colab": {
          "base_uri": "https://localhost:8080/"
        },
        "id": "BooKVUwgtrCL",
        "outputId": "dc41d1ff-6e8b-440d-e266-eefc1a40aea3"
      },
      "execution_count": null,
      "outputs": [
        {
          "output_type": "stream",
          "name": "stdout",
          "text": [
            "Standard error (difference): 137.52791924343424\n",
            "Degrees of freedom: 72.47603755653496\n",
            "t-critical (difference): 1.993239891612047\n",
            "95% CI for difference in means: (np.float64(25.87386515358679), np.float64(574.1261348464132))\n"
          ]
        }
      ]
    },
    {
      "cell_type": "code",
      "source": [],
      "metadata": {
        "id": "O1ByMgzbtzET"
      },
      "execution_count": null,
      "outputs": []
    },
    {
      "cell_type": "markdown",
      "metadata": {
        "id": "ddf51e15"
      },
      "source": [
        "# Task\n",
        "Simulate 100 samples of size 30 from a normal distribution with mean 50 and standard deviation 10. For each sample, compute a 95% confidence interval for the mean. Plot the confidence intervals, coloring them based on whether they contain the true mean."
      ]
    },
    {
      "cell_type": "markdown",
      "metadata": {
        "id": "0252c824"
      },
      "source": [
        "## Set up simulation parameters\n",
        "\n",
        "### Subtask:\n",
        "Define the true mean and standard deviation of the population, the sample size, the number of simulations, and the confidence level.\n"
      ]
    },
    {
      "cell_type": "markdown",
      "metadata": {
        "id": "8694cd6d"
      },
      "source": [
        "**Reasoning**:\n",
        "The subtask requires defining several variables with specific values. I will define these variables in a single code block.\n",
        "\n"
      ]
    },
    {
      "cell_type": "code",
      "metadata": {
        "id": "f5edf216"
      },
      "source": [
        "true_mean = 50\n",
        "true_std = 10\n",
        "sample_size = 30\n",
        "num_simulations = 100\n",
        "confidence_level = 0.95"
      ],
      "execution_count": null,
      "outputs": []
    },
    {
      "cell_type": "markdown",
      "metadata": {
        "id": "2fc5e309"
      },
      "source": [
        "## Simulate samples and calculate confidence intervals\n",
        "\n",
        "### Subtask:\n",
        "Generate multiple random samples from the population and calculate the confidence interval for the mean for each sample.\n"
      ]
    },
    {
      "cell_type": "markdown",
      "metadata": {
        "id": "b8057d4d"
      },
      "source": [
        "**Reasoning**:\n",
        "Generate multiple random samples, calculate the confidence interval for each sample, and check if the true mean is within the interval.\n",
        "\n"
      ]
    },
    {
      "cell_type": "code",
      "metadata": {
        "colab": {
          "base_uri": "https://localhost:8080/"
        },
        "id": "da67d086",
        "outputId": "e20f4403-5f2f-4e97-dcb1-5b6fdf7fea64"
      },
      "source": [
        "confidence_intervals = []\n",
        "contains_true_mean = []\n",
        "\n",
        "for _ in range(num_simulations):\n",
        "    # Generate a random sample\n",
        "    sample = np.random.normal(loc=true_mean, scale=true_std, size=sample_size)\n",
        "\n",
        "    # Calculate sample statistics\n",
        "    sample_mean = np.mean(sample)\n",
        "    sample_std = np.std(sample, ddof=1) # Use ddof=1 for sample standard deviation\n",
        "\n",
        "    # Calculate standard error\n",
        "    se = sample_std / np.sqrt(sample_size)\n",
        "\n",
        "    # Calculate critical t-value\n",
        "    alpha = 1 - confidence_level\n",
        "    t_crit = stats.t.ppf(1 - alpha/2, df=sample_size - 1)\n",
        "\n",
        "    # Calculate margin of error\n",
        "    moe = t_crit * se\n",
        "\n",
        "    # Calculate confidence interval\n",
        "    ci_lower = sample_mean - moe\n",
        "    ci_upper = sample_mean + moe\n",
        "    confidence_intervals.append((ci_lower, ci_upper))\n",
        "\n",
        "    # Check if the true mean is within the interval\n",
        "    contains_true_mean.append(ci_lower <= true_mean <= ci_upper)\n",
        "\n",
        "print(\"Number of confidence intervals calculated:\", len(confidence_intervals))\n",
        "print(\"Number of intervals containing the true mean:\", sum(contains_true_mean))\n"
      ],
      "execution_count": null,
      "outputs": [
        {
          "output_type": "stream",
          "name": "stdout",
          "text": [
            "Number of confidence intervals calculated: 100\n",
            "Number of intervals containing the true mean: 98\n"
          ]
        }
      ]
    },
    {
      "cell_type": "markdown",
      "metadata": {
        "id": "82761f3e"
      },
      "source": [
        "## Visualize the confidence intervals\n",
        "\n",
        "### Subtask:\n",
        "Plot the calculated confidence intervals, color-coding them based on whether they contain the true mean.\n"
      ]
    },
    {
      "cell_type": "markdown",
      "metadata": {
        "id": "ac33186f"
      },
      "source": [
        "**Reasoning**:\n",
        "Plot the calculated confidence intervals, color-coding them based on whether they contain the true mean, and add a vertical line for the true mean.\n",
        "\n"
      ]
    },
    {
      "cell_type": "code",
      "metadata": {
        "colab": {
          "base_uri": "https://localhost:8080/",
          "height": 718
        },
        "id": "5786fb96",
        "outputId": "03d615fa-315c-4554-cce0-cebadc46e5d3"
      },
      "source": [
        "import matplotlib.pyplot as plt\n",
        "\n",
        "plt.figure(figsize=(10, 8))\n",
        "\n",
        "for i, ci in enumerate(confidence_intervals):\n",
        "    color = 'green' if contains_true_mean[i] else 'red'\n",
        "    plt.plot([i, i], [ci[0], ci[1]], marker='_', color=color, markersize=10)\n",
        "    plt.plot(i, ci[0], marker='_', color=color, markersize=10)\n",
        "    plt.plot(i, ci[1], marker='_', color=color, markersize=10)\n",
        "\n",
        "\n",
        "plt.axhline(y=true_mean, color='blue', linestyle='--', label=f'True Mean ({true_mean})')\n",
        "\n",
        "plt.ylim(true_mean - 3 * true_std / np.sqrt(sample_size), true_mean + 3 * true_std / np.sqrt(sample_size)) # Adjust y-limits based on expected range\n",
        "plt.xlabel('Sample')\n",
        "plt.ylabel('Confidence Interval')\n",
        "plt.title('Confidence Intervals for the Mean')\n",
        "plt.legend()\n",
        "plt.grid(True)\n",
        "plt.show()"
      ],
      "execution_count": null,
      "outputs": [
        {
          "output_type": "display_data",
          "data": {
            "text/plain": [
              "<Figure size 1000x800 with 1 Axes>"
            ],
            "image/png": "[encoded data removed]"
          },
          "metadata": {}
        }
      ]
    },
    {
      "cell_type": "markdown",
      "metadata": {
        "id": "17abe458"
      },
      "source": [
        "## Analyze and interpret the results\n",
        "\n",
        "### Subtask:\n",
        "Examine the plot to see the proportion of confidence intervals that contain the true mean and relate this to the chosen confidence level.\n"
      ]
    },
    {
      "cell_type": "markdown",
      "metadata": {
        "id": "b8117742"
      },
      "source": [
        "**Reasoning**:\n",
        "Calculate the proportion of confidence intervals that contain the true mean and compare it to the confidence level.\n",
        "\n"
      ]
    },
    {
      "cell_type": "code",
      "metadata": {
        "colab": {
          "base_uri": "https://localhost:8080/"
        },
        "id": "984389c7",
        "outputId": "356ba2be-dcba-49ce-902b-21314f13018b"
      },
      "source": [
        "# Count the number of intervals containing the true mean (green lines)\n",
        "num_containing_true_mean = sum(contains_true_mean)\n",
        "\n",
        "# Calculate the proportion\n",
        "proportion_containing_true_mean = num_containing_true_mean / num_simulations\n",
        "\n",
        "# Compare the proportion to the confidence level\n",
        "print(f\"Number of confidence intervals containing the true mean: {num_containing_true_mean}\")\n",
        "print(f\"Proportion of intervals containing the true mean: {proportion_containing_true_mean:.4f}\")\n",
        "print(f\"Chosen confidence level: {confidence_level}\")\n",
        "\n",
        "# Analysis\n",
        "print(\"\\nAnalysis:\")\n",
        "print(f\"The observed proportion ({proportion_containing_true_mean:.4f}) of confidence intervals that contain the true mean\")\n",
        "print(f\"is close to the chosen confidence level ({confidence_level}). This is expected, as a 95%\")\n",
        "print(\"confidence level implies that, in the long run, approximately 95% of the confidence intervals\")\n",
        "print(\"constructed from random samples will contain the true population parameter.\")"
      ],
      "execution_count": null,
      "outputs": [
        {
          "output_type": "stream",
          "name": "stdout",
          "text": [
            "Number of confidence intervals containing the true mean: 98\n",
            "Proportion of intervals containing the true mean: 0.9800\n",
            "Chosen confidence level: 0.95\n",
            "\n",
            "Analysis:\n",
            "The observed proportion (0.9800) of confidence intervals that contain the true mean\n",
            "is close to the chosen confidence level (0.95). This is expected, as a 95%\n",
            "confidence level implies that, in the long run, approximately 95% of the confidence intervals\n",
            "constructed from random samples will contain the true population parameter.\n"
          ]
        }
      ]
    },
    {
      "cell_type": "markdown",
      "metadata": {
        "id": "b5c54e8b"
      },
      "source": [
        "## Summary:\n",
        "\n",
        "### Data Analysis Key Findings\n",
        "\n",
        "*   Out of 100 simulated samples, 98 of the 95% confidence intervals calculated for the mean contained the true mean of 50.\n",
        "*   The proportion of confidence intervals containing the true mean was 0.9800.\n",
        "\n",
        "### Insights or Next Steps\n",
        "\n",
        "*   The observed proportion of confidence intervals containing the true mean (0.9800) is close to the theoretical 95% confidence level, which is expected.\n",
        "*   This simulation visually demonstrates the meaning of a confidence interval: it represents the long-run probability that an interval constructed in this manner will contain the true population parameter.\n"
      ]
    },
    {
      "cell_type": "code",
      "source": [],
      "metadata": {
        "id": "E_6zA0S6uw_5"
      },
      "execution_count": null,
      "outputs": []
    }
  ]
}